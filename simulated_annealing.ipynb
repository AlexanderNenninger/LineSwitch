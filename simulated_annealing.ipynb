{
 "cells": [
  {
   "cell_type": "code",
   "execution_count": 53,
   "metadata": {},
   "outputs": [],
   "source": [
    "from copy import copy, deepcopy\n",
    "from math import exp, inf, log\n",
    "from random import random, shuffle\n",
    "from typing import Tuple\n",
    "\n",
    "\n",
    "def energy(solution):\n",
    "    e = 0\n",
    "    for x, y in zip(solution[:1], solution[1:]):\n",
    "        e += x-y # small - large\n",
    "    return e\n",
    "\n",
    "def move(solution):\n",
    "    solution = copy(solution)\n",
    "    idxs = list(range(len(solution)))\n",
    "    shuffle(idxs)\n",
    "    idx, idy = idxs[0], idxs[1]\n",
    "    el = solution[idx]\n",
    "    solution[idx] = solution[idy]\n",
    "    solution[idy] = el\n",
    "    return solution\n",
    "\n",
    "def temperature_schedule(step):\n",
    "    return 1/log(step + 1)\n",
    "\n",
    "def simulated_annealing(initial_solution, beta, nsteps):\n",
    "    sol = initial_solution\n",
    "    min_energy = inf\n",
    "    e = energy(sol)\n",
    "    for i in range(1, nsteps+1):\n",
    "        proposed_sol = move(sol)\n",
    "        e_proposed = energy(proposed_sol)\n",
    "        \n",
    "        # Keep track of best solution\n",
    "        if e < min_energy:\n",
    "            min_energy = e\n",
    "            best_solution = copy(proposed_sol)\n",
    "\n",
    "        tscale = beta * temperature_schedule(i)\n",
    "        \n",
    "        # Decide whether we want to make a move\n",
    "        if random() < exp(tscale * (e - e_proposed)):\n",
    "            sol = proposed_sol\n",
    "            e = e_proposed\n",
    "    \n",
    "    return best_solution\n",
    "\n",
    "        "
   ]
  },
  {
   "cell_type": "code",
   "execution_count": 57,
   "metadata": {},
   "outputs": [
    {
     "name": "stdout",
     "output_type": "stream",
     "text": [
      "[0, 2, 4, 1, 3, 6, 9, 8, 7, 5]\n",
      "4\n"
     ]
    }
   ],
   "source": [
    "ls = list(range(10))\n",
    "shuffle(ls)\n",
    "print(ls)\n",
    "print(energy(ls))"
   ]
  },
  {
   "cell_type": "code",
   "execution_count": 55,
   "metadata": {},
   "outputs": [
    {
     "name": "stdout",
     "output_type": "stream",
     "text": [
      "original: [7, 9, 8, 6, 5, 2, 3, 4, 1, 0], 4\n",
      "sorted: [9, 8, 0, 6, 3, 2, 5, 4, 7, 1], 1\n"
     ]
    }
   ],
   "source": [
    "sortedls = simulated_annealing(ls, 10, nsteps=1000000)\n",
    "\n",
    "print(f\"original: {ls}, {energy(ls)}\\nsorted: {sortedls}, {energy(sortedls)}\")"
   ]
  },
  {
   "cell_type": "code",
   "execution_count": 44,
   "metadata": {},
   "outputs": [
    {
     "data": {
      "text/plain": [
       "1"
      ]
     },
     "execution_count": 44,
     "metadata": {},
     "output_type": "execute_result"
    }
   ],
   "source": [
    "energy(list(range(10)))"
   ]
  },
  {
   "cell_type": "code",
   "execution_count": 61,
   "metadata": {},
   "outputs": [
    {
     "name": "stdout",
     "output_type": "stream",
     "text": [
      "b=[[1]]\n",
      "a=[[1]]\n"
     ]
    }
   ],
   "source": [
    "a = [[1]]\n",
    "\n",
    "b = deepcopy(a)\n",
    "\n",
    "print(f\"{b=}\")\n",
    "b[0][0] = 2\n",
    "\n",
    "print(f\"{a=}\")"
   ]
  },
  {
   "cell_type": "code",
   "execution_count": null,
   "metadata": {},
   "outputs": [],
   "source": []
  }
 ],
 "metadata": {
  "kernelspec": {
   "display_name": "Python 3.10.6 64-bit",
   "language": "python",
   "name": "python3"
  },
  "language_info": {
   "codemirror_mode": {
    "name": "ipython",
    "version": 3
   },
   "file_extension": ".py",
   "mimetype": "text/x-python",
   "name": "python",
   "nbconvert_exporter": "python",
   "pygments_lexer": "ipython3",
   "version": "3.10.6"
  },
  "orig_nbformat": 4,
  "vscode": {
   "interpreter": {
    "hash": "b0fa6594d8f4cbf19f97940f81e996739fb7646882a419484c72d19e05852a7e"
   }
  }
 },
 "nbformat": 4,
 "nbformat_minor": 2
}
